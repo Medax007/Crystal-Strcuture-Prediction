{
 "cells": [
  {
   "cell_type": "markdown",
   "id": "8ffd47b9",
   "metadata": {},
   "source": [
    "### Crystal Structure Prediction of ABO3 perovskite-type oxides "
   ]
  },
  {
   "cell_type": "code",
   "execution_count": 1,
   "id": "76ba033e",
   "metadata": {},
   "outputs": [],
   "source": [
    "import numpy as np\n",
    "import pandas as pd\n",
    "import matplotlib.pyplot as plt\n",
    "import seaborn as sns\n",
    "%matplotlib inline"
   ]
  },
  {
   "cell_type": "markdown",
   "id": "c01ff46c",
   "metadata": {},
   "source": [
    "### Import Data"
   ]
  },
  {
   "cell_type": "code",
   "execution_count": 2,
   "id": "6ec3e6d6",
   "metadata": {},
   "outputs": [],
   "source": [
    "df = pd.read_csv('C:\\\\Users\\\\udays\\\\Documents\\\\train data.csv')"
   ]
  },
  {
   "cell_type": "code",
   "execution_count": 3,
   "id": "ac240eff",
   "metadata": {},
   "outputs": [
    {
     "data": {
      "text/html": [
       "<div>\n",
       "<style scoped>\n",
       "    .dataframe tbody tr th:only-of-type {\n",
       "        vertical-align: middle;\n",
       "    }\n",
       "\n",
       "    .dataframe tbody tr th {\n",
       "        vertical-align: top;\n",
       "    }\n",
       "\n",
       "    .dataframe thead th {\n",
       "        text-align: right;\n",
       "    }\n",
       "</style>\n",
       "<table border=\"1\" class=\"dataframe\">\n",
       "  <thead>\n",
       "    <tr style=\"text-align: right;\">\n",
       "      <th></th>\n",
       "      <th>v(A)</th>\n",
       "      <th>v(B)</th>\n",
       "      <th>r(AXII)(A)</th>\n",
       "      <th>r(AVI)(A)</th>\n",
       "      <th>r(BVI)(A)</th>\n",
       "      <th>EN(A)</th>\n",
       "      <th>EN(B)</th>\n",
       "      <th>l(A-O)(A)</th>\n",
       "      <th>l(B-O)(A)</th>\n",
       "      <th>?ENR</th>\n",
       "      <th>tG</th>\n",
       "      <th>tau</th>\n",
       "      <th>mu</th>\n",
       "      <th>Lowest distortion</th>\n",
       "    </tr>\n",
       "  </thead>\n",
       "  <tbody>\n",
       "    <tr>\n",
       "      <th>0</th>\n",
       "      <td>0</td>\n",
       "      <td>0</td>\n",
       "      <td>0.52</td>\n",
       "      <td>0.52</td>\n",
       "      <td>0.93</td>\n",
       "      <td>2.18</td>\n",
       "      <td>2.54</td>\n",
       "      <td>2.214685</td>\n",
       "      <td>2.313698</td>\n",
       "      <td>-1.728214</td>\n",
       "      <td>0.582680</td>\n",
       "      <td>0.000000</td>\n",
       "      <td>0.664286</td>\n",
       "      <td>cubic</td>\n",
       "    </tr>\n",
       "    <tr>\n",
       "      <th>1</th>\n",
       "      <td>0</td>\n",
       "      <td>0</td>\n",
       "      <td>1.03</td>\n",
       "      <td>0.86</td>\n",
       "      <td>0.60</td>\n",
       "      <td>1.27</td>\n",
       "      <td>1.90</td>\n",
       "      <td>2.500930</td>\n",
       "      <td>0.000000</td>\n",
       "      <td>-1.768643</td>\n",
       "      <td>0.859135</td>\n",
       "      <td>0.000000</td>\n",
       "      <td>0.428571</td>\n",
       "      <td>cubic</td>\n",
       "    </tr>\n",
       "    <tr>\n",
       "      <th>2</th>\n",
       "      <td>2</td>\n",
       "      <td>4</td>\n",
       "      <td>0.92</td>\n",
       "      <td>0.67</td>\n",
       "      <td>0.53</td>\n",
       "      <td>1.83</td>\n",
       "      <td>1.88</td>\n",
       "      <td>2.290644</td>\n",
       "      <td>1.930311</td>\n",
       "      <td>-1.468464</td>\n",
       "      <td>0.849994</td>\n",
       "      <td>4.936558</td>\n",
       "      <td>0.378571</td>\n",
       "      <td>cubic</td>\n",
       "    </tr>\n",
       "    <tr>\n",
       "      <th>3</th>\n",
       "      <td>1</td>\n",
       "      <td>5</td>\n",
       "      <td>1.64</td>\n",
       "      <td>1.38</td>\n",
       "      <td>0.62</td>\n",
       "      <td>0.82</td>\n",
       "      <td>2.36</td>\n",
       "      <td>3.025719</td>\n",
       "      <td>1.745600</td>\n",
       "      <td>-1.974429</td>\n",
       "      <td>1.064161</td>\n",
       "      <td>3.977376</td>\n",
       "      <td>0.442857</td>\n",
       "      <td>orthorhombic</td>\n",
       "    </tr>\n",
       "    <tr>\n",
       "      <th>4</th>\n",
       "      <td>0</td>\n",
       "      <td>0</td>\n",
       "      <td>0.57</td>\n",
       "      <td>0.57</td>\n",
       "      <td>0.71</td>\n",
       "      <td>2.20</td>\n",
       "      <td>1.30</td>\n",
       "      <td>2.300109</td>\n",
       "      <td>2.027412</td>\n",
       "      <td>-1.622357</td>\n",
       "      <td>0.660190</td>\n",
       "      <td>0.000000</td>\n",
       "      <td>0.507143</td>\n",
       "      <td>cubic</td>\n",
       "    </tr>\n",
       "  </tbody>\n",
       "</table>\n",
       "</div>"
      ],
      "text/plain": [
       "   v(A)  v(B)  r(AXII)(A)  r(AVI)(A)  r(BVI)(A)  EN(A)  EN(B)  l(A-O)(A)  \\\n",
       "0     0     0        0.52       0.52       0.93   2.18   2.54   2.214685   \n",
       "1     0     0        1.03       0.86       0.60   1.27   1.90   2.500930   \n",
       "2     2     4        0.92       0.67       0.53   1.83   1.88   2.290644   \n",
       "3     1     5        1.64       1.38       0.62   0.82   2.36   3.025719   \n",
       "4     0     0        0.57       0.57       0.71   2.20   1.30   2.300109   \n",
       "\n",
       "   l(B-O)(A)      ?ENR        tG       tau        mu Lowest distortion  \n",
       "0   2.313698 -1.728214  0.582680  0.000000  0.664286             cubic  \n",
       "1   0.000000 -1.768643  0.859135  0.000000  0.428571             cubic  \n",
       "2   1.930311 -1.468464  0.849994  4.936558  0.378571             cubic  \n",
       "3   1.745600 -1.974429  1.064161  3.977376  0.442857      orthorhombic  \n",
       "4   2.027412 -1.622357  0.660190  0.000000  0.507143             cubic  "
      ]
     },
     "execution_count": 3,
     "metadata": {},
     "output_type": "execute_result"
    }
   ],
   "source": [
    "df.head()"
   ]
  },
  {
   "cell_type": "markdown",
   "id": "4164a767",
   "metadata": {},
   "source": [
    "### Data Analysis"
   ]
  },
  {
   "cell_type": "code",
   "execution_count": 4,
   "id": "9d7f1a7b",
   "metadata": {},
   "outputs": [
    {
     "name": "stdout",
     "output_type": "stream",
     "text": [
      "<class 'pandas.core.frame.DataFrame'>\n",
      "RangeIndex: 4139 entries, 0 to 4138\n",
      "Data columns (total 14 columns):\n",
      " #   Column             Non-Null Count  Dtype  \n",
      "---  ------             --------------  -----  \n",
      " 0   v(A)               4139 non-null   int64  \n",
      " 1   v(B)               4139 non-null   int64  \n",
      " 2   r(AXII)(A)         4139 non-null   float64\n",
      " 3   r(AVI)(A)          4139 non-null   float64\n",
      " 4   r(BVI)(A)          4139 non-null   float64\n",
      " 5   EN(A)              4139 non-null   float64\n",
      " 6   EN(B)              4139 non-null   float64\n",
      " 7   l(A-O)(A)          4139 non-null   float64\n",
      " 8   l(B-O)(A)          4139 non-null   float64\n",
      " 9   ?ENR               4139 non-null   float64\n",
      " 10  tG                 4139 non-null   float64\n",
      " 11  tau                4139 non-null   float64\n",
      " 12  mu                 4139 non-null   float64\n",
      " 13  Lowest distortion  4139 non-null   object \n",
      "dtypes: float64(11), int64(2), object(1)\n",
      "memory usage: 452.8+ KB\n"
     ]
    }
   ],
   "source": [
    "df.info()"
   ]
  },
  {
   "cell_type": "code",
   "execution_count": 5,
   "id": "563853cb",
   "metadata": {},
   "outputs": [
    {
     "data": {
      "text/html": [
       "<div>\n",
       "<style scoped>\n",
       "    .dataframe tbody tr th:only-of-type {\n",
       "        vertical-align: middle;\n",
       "    }\n",
       "\n",
       "    .dataframe tbody tr th {\n",
       "        vertical-align: top;\n",
       "    }\n",
       "\n",
       "    .dataframe thead th {\n",
       "        text-align: right;\n",
       "    }\n",
       "</style>\n",
       "<table border=\"1\" class=\"dataframe\">\n",
       "  <thead>\n",
       "    <tr style=\"text-align: right;\">\n",
       "      <th></th>\n",
       "      <th>v(A)</th>\n",
       "      <th>v(B)</th>\n",
       "      <th>r(AXII)(A)</th>\n",
       "      <th>r(AVI)(A)</th>\n",
       "      <th>r(BVI)(A)</th>\n",
       "      <th>EN(A)</th>\n",
       "      <th>EN(B)</th>\n",
       "      <th>l(A-O)(A)</th>\n",
       "      <th>l(B-O)(A)</th>\n",
       "      <th>?ENR</th>\n",
       "      <th>tG</th>\n",
       "      <th>tau</th>\n",
       "      <th>mu</th>\n",
       "    </tr>\n",
       "  </thead>\n",
       "  <tbody>\n",
       "    <tr>\n",
       "      <th>count</th>\n",
       "      <td>4139.000000</td>\n",
       "      <td>4139.000000</td>\n",
       "      <td>4139.000000</td>\n",
       "      <td>4139.000000</td>\n",
       "      <td>4139.000000</td>\n",
       "      <td>4139.000000</td>\n",
       "      <td>4139.000000</td>\n",
       "      <td>4139.000000</td>\n",
       "      <td>4139.000000</td>\n",
       "      <td>4139.000000</td>\n",
       "      <td>4139.000000</td>\n",
       "      <td>4139.000000</td>\n",
       "      <td>4139.000000</td>\n",
       "    </tr>\n",
       "    <tr>\n",
       "      <th>mean</th>\n",
       "      <td>0.881856</td>\n",
       "      <td>1.381493</td>\n",
       "      <td>1.005617</td>\n",
       "      <td>0.841834</td>\n",
       "      <td>0.802190</td>\n",
       "      <td>1.547601</td>\n",
       "      <td>1.598294</td>\n",
       "      <td>2.323373</td>\n",
       "      <td>2.018614</td>\n",
       "      <td>-2.186582</td>\n",
       "      <td>0.781014</td>\n",
       "      <td>1.314168</td>\n",
       "      <td>0.572994</td>\n",
       "    </tr>\n",
       "    <tr>\n",
       "      <th>std</th>\n",
       "      <td>1.674102</td>\n",
       "      <td>2.161027</td>\n",
       "      <td>0.336618</td>\n",
       "      <td>0.240230</td>\n",
       "      <td>0.235233</td>\n",
       "      <td>0.447246</td>\n",
       "      <td>0.443158</td>\n",
       "      <td>0.635195</td>\n",
       "      <td>0.553570</td>\n",
       "      <td>0.637094</td>\n",
       "      <td>0.135812</td>\n",
       "      <td>20.815510</td>\n",
       "      <td>0.168022</td>\n",
       "    </tr>\n",
       "    <tr>\n",
       "      <th>min</th>\n",
       "      <td>-1.000000</td>\n",
       "      <td>-1.000000</td>\n",
       "      <td>0.270000</td>\n",
       "      <td>0.270000</td>\n",
       "      <td>0.270000</td>\n",
       "      <td>0.790000</td>\n",
       "      <td>0.790000</td>\n",
       "      <td>0.000000</td>\n",
       "      <td>0.000000</td>\n",
       "      <td>-5.411536</td>\n",
       "      <td>0.384648</td>\n",
       "      <td>-480.827696</td>\n",
       "      <td>0.192857</td>\n",
       "    </tr>\n",
       "    <tr>\n",
       "      <th>25%</th>\n",
       "      <td>-1.000000</td>\n",
       "      <td>-1.000000</td>\n",
       "      <td>0.730000</td>\n",
       "      <td>0.670000</td>\n",
       "      <td>0.630000</td>\n",
       "      <td>1.200000</td>\n",
       "      <td>1.220000</td>\n",
       "      <td>2.294004</td>\n",
       "      <td>1.956808</td>\n",
       "      <td>-2.570661</td>\n",
       "      <td>0.680864</td>\n",
       "      <td>0.000000</td>\n",
       "      <td>0.450000</td>\n",
       "    </tr>\n",
       "    <tr>\n",
       "      <th>50%</th>\n",
       "      <td>0.000000</td>\n",
       "      <td>0.000000</td>\n",
       "      <td>0.980000</td>\n",
       "      <td>0.860000</td>\n",
       "      <td>0.760000</td>\n",
       "      <td>1.500000</td>\n",
       "      <td>1.600000</td>\n",
       "      <td>2.422517</td>\n",
       "      <td>2.075849</td>\n",
       "      <td>-2.084214</td>\n",
       "      <td>0.776496</td>\n",
       "      <td>0.000000</td>\n",
       "      <td>0.542857</td>\n",
       "    </tr>\n",
       "    <tr>\n",
       "      <th>75%</th>\n",
       "      <td>2.000000</td>\n",
       "      <td>3.000000</td>\n",
       "      <td>1.240000</td>\n",
       "      <td>0.960000</td>\n",
       "      <td>0.940000</td>\n",
       "      <td>1.910000</td>\n",
       "      <td>1.960000</td>\n",
       "      <td>2.582926</td>\n",
       "      <td>2.284156</td>\n",
       "      <td>-1.734464</td>\n",
       "      <td>0.873300</td>\n",
       "      <td>3.892903</td>\n",
       "      <td>0.671429</td>\n",
       "    </tr>\n",
       "    <tr>\n",
       "      <th>max</th>\n",
       "      <td>5.000000</td>\n",
       "      <td>5.000000</td>\n",
       "      <td>1.880000</td>\n",
       "      <td>1.670000</td>\n",
       "      <td>1.670000</td>\n",
       "      <td>2.540000</td>\n",
       "      <td>2.540000</td>\n",
       "      <td>3.300176</td>\n",
       "      <td>3.009747</td>\n",
       "      <td>-0.601714</td>\n",
       "      <td>1.321062</td>\n",
       "      <td>305.871348</td>\n",
       "      <td>1.192857</td>\n",
       "    </tr>\n",
       "  </tbody>\n",
       "</table>\n",
       "</div>"
      ],
      "text/plain": [
       "              v(A)         v(B)   r(AXII)(A)    r(AVI)(A)    r(BVI)(A)  \\\n",
       "count  4139.000000  4139.000000  4139.000000  4139.000000  4139.000000   \n",
       "mean      0.881856     1.381493     1.005617     0.841834     0.802190   \n",
       "std       1.674102     2.161027     0.336618     0.240230     0.235233   \n",
       "min      -1.000000    -1.000000     0.270000     0.270000     0.270000   \n",
       "25%      -1.000000    -1.000000     0.730000     0.670000     0.630000   \n",
       "50%       0.000000     0.000000     0.980000     0.860000     0.760000   \n",
       "75%       2.000000     3.000000     1.240000     0.960000     0.940000   \n",
       "max       5.000000     5.000000     1.880000     1.670000     1.670000   \n",
       "\n",
       "             EN(A)        EN(B)    l(A-O)(A)    l(B-O)(A)         ?ENR  \\\n",
       "count  4139.000000  4139.000000  4139.000000  4139.000000  4139.000000   \n",
       "mean      1.547601     1.598294     2.323373     2.018614    -2.186582   \n",
       "std       0.447246     0.443158     0.635195     0.553570     0.637094   \n",
       "min       0.790000     0.790000     0.000000     0.000000    -5.411536   \n",
       "25%       1.200000     1.220000     2.294004     1.956808    -2.570661   \n",
       "50%       1.500000     1.600000     2.422517     2.075849    -2.084214   \n",
       "75%       1.910000     1.960000     2.582926     2.284156    -1.734464   \n",
       "max       2.540000     2.540000     3.300176     3.009747    -0.601714   \n",
       "\n",
       "                tG          tau           mu  \n",
       "count  4139.000000  4139.000000  4139.000000  \n",
       "mean      0.781014     1.314168     0.572994  \n",
       "std       0.135812    20.815510     0.168022  \n",
       "min       0.384648  -480.827696     0.192857  \n",
       "25%       0.680864     0.000000     0.450000  \n",
       "50%       0.776496     0.000000     0.542857  \n",
       "75%       0.873300     3.892903     0.671429  \n",
       "max       1.321062   305.871348     1.192857  "
      ]
     },
     "execution_count": 5,
     "metadata": {},
     "output_type": "execute_result"
    }
   ],
   "source": [
    "df.describe()"
   ]
  },
  {
   "cell_type": "code",
   "execution_count": 6,
   "id": "b20be355",
   "metadata": {},
   "outputs": [
    {
     "data": {
      "text/plain": [
       "v(A)                 0\n",
       "v(B)                 0\n",
       "r(AXII)(A)           0\n",
       "r(AVI)(A)            0\n",
       "r(BVI)(A)            0\n",
       "EN(A)                0\n",
       "EN(B)                0\n",
       "l(A-O)(A)            0\n",
       "l(B-O)(A)            0\n",
       "?ENR                 0\n",
       "tG                   0\n",
       "tau                  0\n",
       "mu                   0\n",
       "Lowest distortion    0\n",
       "dtype: int64"
      ]
     },
     "execution_count": 6,
     "metadata": {},
     "output_type": "execute_result"
    }
   ],
   "source": [
    "df.isnull().sum()"
   ]
  },
  {
   "cell_type": "code",
   "execution_count": 7,
   "id": "31bdea05",
   "metadata": {},
   "outputs": [
    {
     "data": {
      "image/png": "[encoded data removed]",
      "text/plain": [
       "<Figure size 432x288 with 1 Axes>"
      ]
     },
     "metadata": {
      "needs_background": "light"
     },
     "output_type": "display_data"
    }
   ],
   "source": [
    "df['Lowest distortion'].hist()\n",
    "plt.style.use('ggplot')"
   ]
  },
  {
   "cell_type": "code",
   "execution_count": 8,
   "id": "58603747",
   "metadata": {},
   "outputs": [
    {
     "data": {
      "text/plain": [
       "<AxesSubplot:>"
      ]
     },
     "execution_count": 8,
     "metadata": {},
     "output_type": "execute_result"
    },
    {
     "data": {
      "image/png": "[encoded data removed]",
      "text/plain": [
       "<Figure size 864x648 with 2 Axes>"
      ]
     },
     "metadata": {},
     "output_type": "display_data"
    }
   ],
   "source": [
    "correlations = df.corr()\n",
    "f, ax = plt.subplots(figsize=(12, 9))\n",
    "sns.heatmap(correlations, annot=True)"
   ]
  },
  {
   "cell_type": "markdown",
   "id": "62e40b8c",
   "metadata": {},
   "source": [
    "### Test Train Split"
   ]
  },
  {
   "cell_type": "code",
   "execution_count": 9,
   "id": "33a62901",
   "metadata": {},
   "outputs": [],
   "source": [
    "from sklearn.model_selection import train_test_split"
   ]
  },
  {
   "cell_type": "code",
   "execution_count": 10,
   "id": "14b11e60",
   "metadata": {},
   "outputs": [],
   "source": [
    "X = df.drop('Lowest distortion',axis=1)\n",
    "y = df['Lowest distortion']"
   ]
  },
  {
   "cell_type": "code",
   "execution_count": 11,
   "id": "68411ba6",
   "metadata": {},
   "outputs": [],
   "source": [
    "X_train, X_test, y_train, y_test = train_test_split(X, y, test_size=0.25)"
   ]
  },
  {
   "cell_type": "markdown",
   "id": "79e15d81",
   "metadata": {},
   "source": [
    "### Decision Tree"
   ]
  },
  {
   "cell_type": "code",
   "execution_count": 12,
   "id": "eff166be",
   "metadata": {},
   "outputs": [],
   "source": [
    "from sklearn.tree import DecisionTreeClassifier\n",
    "from sklearn import metrics"
   ]
  },
  {
   "cell_type": "code",
   "execution_count": 13,
   "id": "ad131963",
   "metadata": {},
   "outputs": [],
   "source": [
    "dtree = DecisionTreeClassifier()"
   ]
  },
  {
   "cell_type": "code",
   "execution_count": 14,
   "id": "a4638dc7",
   "metadata": {},
   "outputs": [
    {
     "data": {
      "text/plain": [
       "0.7352657004830918"
      ]
     },
     "execution_count": 14,
     "metadata": {},
     "output_type": "execute_result"
    }
   ],
   "source": [
    "dtree.fit(X_train,y_train)\n",
    "dtree.score(X_test, y_test)"
   ]
  },
  {
   "cell_type": "code",
   "execution_count": 15,
   "id": "6a0efc03",
   "metadata": {},
   "outputs": [
    {
     "name": "stdout",
     "output_type": "stream",
     "text": [
      "Feature: 0, Score: 0.00580\n",
      "Feature: 1, Score: 0.02238\n",
      "Feature: 2, Score: 0.06858\n",
      "Feature: 3, Score: 0.07659\n",
      "Feature: 4, Score: 0.02978\n",
      "Feature: 5, Score: 0.08589\n",
      "Feature: 6, Score: 0.09619\n",
      "Feature: 7, Score: 0.06903\n",
      "Feature: 8, Score: 0.13322\n",
      "Feature: 9, Score: 0.12432\n",
      "Feature: 10, Score: 0.20011\n",
      "Feature: 11, Score: 0.05398\n",
      "Feature: 12, Score: 0.03414\n"
     ]
    },
    {
     "data": {
      "image/png": "[encoded data removed]",
      "text/plain": [
       "<Figure size 432x288 with 1 Axes>"
      ]
     },
     "metadata": {},
     "output_type": "display_data"
    }
   ],
   "source": [
    "importance = dtree.feature_importances_\n",
    "for i,v in enumerate(importance):\n",
    "\tprint('Feature: %0d, Score: %.5f' % (i,v))\n",
    "\n",
    "plt.bar([x for x in range(len(importance))], importance)\n",
    "plt.show()"
   ]
  },
  {
   "cell_type": "markdown",
   "id": "278dc652",
   "metadata": {},
   "source": [
    "### Prediction and Evaluation"
   ]
  },
  {
   "cell_type": "code",
   "execution_count": 16,
   "id": "3c53f0be",
   "metadata": {},
   "outputs": [],
   "source": [
    "predictions = dtree.predict(X_test)"
   ]
  },
  {
   "cell_type": "code",
   "execution_count": 17,
   "id": "9adffe64",
   "metadata": {},
   "outputs": [
    {
     "name": "stdout",
     "output_type": "stream",
     "text": [
      "              precision    recall  f1-score   support\n",
      "\n",
      "       cubic       0.82      0.84      0.83       589\n",
      "orthorhombic       0.69      0.67      0.68       353\n",
      "rhombohedral       0.31      0.33      0.32        67\n",
      "  tetragonal       0.36      0.31      0.33        26\n",
      "\n",
      "    accuracy                           0.74      1035\n",
      "   macro avg       0.55      0.54      0.54      1035\n",
      "weighted avg       0.73      0.74      0.73      1035\n",
      "\n"
     ]
    }
   ],
   "source": [
    "from sklearn.metrics import classification_report,confusion_matrix\n",
    "print(classification_report(y_test,predictions))"
   ]
  },
  {
   "cell_type": "code",
   "execution_count": 18,
   "id": "1e36c742",
   "metadata": {},
   "outputs": [
    {
     "name": "stdout",
     "output_type": "stream",
     "text": [
      "[[495  72  15   7]\n",
      " [ 78 236  32   7]\n",
      " [ 17  28  22   0]\n",
      " [ 11   5   2   8]]\n"
     ]
    }
   ],
   "source": [
    "print(confusion_matrix(y_test,predictions))"
   ]
  },
  {
   "cell_type": "markdown",
   "id": "54f99dce",
   "metadata": {},
   "source": [
    "### k-fold validation"
   ]
  },
  {
   "cell_type": "code",
   "execution_count": 19,
   "id": "35575ee4",
   "metadata": {},
   "outputs": [
    {
     "name": "stdout",
     "output_type": "stream",
     "text": [
      "Dtree: Fold 1 ACC: 0.73\n",
      "---------------------\n",
      "Dtree: Fold 2 ACC: 0.73\n",
      "---------------------\n",
      "Dtree: Fold 3 ACC: 0.76\n",
      "---------------------\n",
      "Dtree: Fold 4 ACC: 0.73\n",
      "---------------------\n",
      "Dtree: Fold 5 ACC: 0.76\n",
      "---------------------\n",
      "Dtree: Fold 6 ACC: 0.75\n",
      "---------------------\n",
      "Dtree: Fold 7 ACC: 0.71\n",
      "---------------------\n",
      "Dtree: Fold 8 ACC: 0.75\n",
      "---------------------\n",
      "Dtree: Fold 9 ACC: 0.74\n",
      "---------------------\n",
      "Dtree: Fold 10 ACC: 0.74\n",
      "---------------------\n"
     ]
    }
   ],
   "source": [
    "from sklearn.model_selection import KFold\n",
    "from sklearn.model_selection import cross_val_score\n",
    "\n",
    "kfold = KFold(n_splits = 10)\n",
    "n = 1\n",
    "dtree_dt = DecisionTreeClassifier()\n",
    "\n",
    "X_data = np.array(X)\n",
    "y_data = np.array(y)\n",
    "\n",
    "DT_scores = []\n",
    "\n",
    "for train, val in kfold.split(X_data, y_data):\n",
    "\n",
    "    dtree_dt.fit(X_data[train], y_data[train])\n",
    "    acc = dtree_dt.score(X_data[val], y_data[val])\n",
    "    DT_scores.append(acc)\n",
    "    print(f\"Dtree: Fold {n} ACC: {round(acc, 2)}\")\n",
    "\n",
    "    print(\"---------------------\")\n",
    "\n",
    "    n += 1"
   ]
  },
  {
   "cell_type": "markdown",
   "id": "cc72c4af",
   "metadata": {},
   "source": [
    "### Feature Importance"
   ]
  },
  {
   "cell_type": "code",
   "execution_count": 20,
   "id": "8fb1d6aa",
   "metadata": {},
   "outputs": [
    {
     "name": "stdout",
     "output_type": "stream",
     "text": [
      "Feature: 0, Score: 0.00580\n",
      "Feature: 1, Score: 0.02238\n",
      "Feature: 2, Score: 0.06858\n",
      "Feature: 3, Score: 0.07659\n",
      "Feature: 4, Score: 0.02978\n",
      "Feature: 5, Score: 0.08589\n",
      "Feature: 6, Score: 0.09619\n",
      "Feature: 7, Score: 0.06903\n",
      "Feature: 8, Score: 0.13322\n",
      "Feature: 9, Score: 0.12432\n",
      "Feature: 10, Score: 0.20011\n",
      "Feature: 11, Score: 0.05398\n",
      "Feature: 12, Score: 0.03414\n"
     ]
    },
    {
     "data": {
      "image/png": "[encoded data removed]",
      "text/plain": [
       "<Figure size 432x288 with 1 Axes>"
      ]
     },
     "metadata": {},
     "output_type": "display_data"
    }
   ],
   "source": [
    "importance = dtree.feature_importances_\n",
    "for i,v in enumerate(importance):\n",
    "\tprint('Feature: %0d, Score: %.5f' % (i,v))\n",
    "\n",
    "plt.bar([x for x in range(len(importance))], importance)\n",
    "plt.show()"
   ]
  },
  {
   "cell_type": "markdown",
   "id": "685c785e",
   "metadata": {},
   "source": [
    "### Training Random Forest Model"
   ]
  },
  {
   "cell_type": "code",
   "execution_count": 21,
   "id": "2ff11721",
   "metadata": {},
   "outputs": [
    {
     "data": {
      "text/plain": [
       "RandomForestClassifier(n_estimators=1000)"
      ]
     },
     "execution_count": 21,
     "metadata": {},
     "output_type": "execute_result"
    }
   ],
   "source": [
    "from sklearn.ensemble import RandomForestClassifier\n",
    "rfm = RandomForestClassifier(n_estimators=1000)\n",
    "rfm.fit(X_train,y_train)"
   ]
  },
  {
   "cell_type": "code",
   "execution_count": 22,
   "id": "1336df20",
   "metadata": {},
   "outputs": [
    {
     "data": {
      "text/plain": [
       "0.8019323671497585"
      ]
     },
     "execution_count": 22,
     "metadata": {},
     "output_type": "execute_result"
    }
   ],
   "source": [
    "rfm.score(X_test, y_test)"
   ]
  },
  {
   "cell_type": "markdown",
   "id": "7d778d04",
   "metadata": {},
   "source": [
    "### Prediction and Evaluation"
   ]
  },
  {
   "cell_type": "code",
   "execution_count": 23,
   "id": "fb35291e",
   "metadata": {},
   "outputs": [],
   "source": [
    "predictions = rfm.predict(X_test)"
   ]
  },
  {
   "cell_type": "code",
   "execution_count": 24,
   "id": "21a6351f",
   "metadata": {},
   "outputs": [
    {
     "name": "stdout",
     "output_type": "stream",
     "text": [
      "              precision    recall  f1-score   support\n",
      "\n",
      "       cubic       0.84      0.90      0.87       589\n",
      "orthorhombic       0.78      0.75      0.77       353\n",
      "rhombohedral       0.50      0.34      0.41        67\n",
      "  tetragonal       0.56      0.35      0.43        26\n",
      "\n",
      "    accuracy                           0.80      1035\n",
      "   macro avg       0.67      0.59      0.62      1035\n",
      "weighted avg       0.79      0.80      0.79      1035\n",
      "\n"
     ]
    }
   ],
   "source": [
    "from sklearn.metrics import classification_report,confusion_matrix\n",
    "print(classification_report(y_test,predictions))"
   ]
  },
  {
   "cell_type": "code",
   "execution_count": 25,
   "id": "4250dc45",
   "metadata": {},
   "outputs": [
    {
     "name": "stdout",
     "output_type": "stream",
     "text": [
      "[[532  46   7   4]\n",
      " [ 71 266  13   3]\n",
      " [ 23  21  23   0]\n",
      " [  8   6   3   9]]\n"
     ]
    }
   ],
   "source": [
    "print(confusion_matrix(y_test,predictions))"
   ]
  },
  {
   "cell_type": "markdown",
   "id": "a0c4f5b0",
   "metadata": {},
   "source": [
    "### Feature Importance"
   ]
  },
  {
   "cell_type": "code",
   "execution_count": 26,
   "id": "db3bdc89",
   "metadata": {},
   "outputs": [
    {
     "name": "stdout",
     "output_type": "stream",
     "text": [
      "Feature: 0, Score: 0.02299\n",
      "Feature: 1, Score: 0.02362\n",
      "Feature: 2, Score: 0.08402\n",
      "Feature: 3, Score: 0.07652\n",
      "Feature: 4, Score: 0.07169\n",
      "Feature: 5, Score: 0.08447\n",
      "Feature: 6, Score: 0.09048\n",
      "Feature: 7, Score: 0.07121\n",
      "Feature: 8, Score: 0.08492\n",
      "Feature: 9, Score: 0.12845\n",
      "Feature: 10, Score: 0.13464\n",
      "Feature: 11, Score: 0.05398\n",
      "Feature: 12, Score: 0.07302\n"
     ]
    },
    {
     "data": {
      "image/png": "[encoded data removed]",
      "text/plain": [
       "<Figure size 432x288 with 1 Axes>"
      ]
     },
     "metadata": {},
     "output_type": "display_data"
    }
   ],
   "source": [
    "importance = rfm.feature_importances_\n",
    "for i,v in enumerate(importance):\n",
    "\tprint('Feature: %0d, Score: %.5f' % (i,v))\n",
    "\n",
    "plt.bar([x for x in range(len(importance))], importance)\n",
    "plt.show()"
   ]
  },
  {
   "cell_type": "markdown",
   "id": "ad539174",
   "metadata": {},
   "source": [
    "## Random Forest Model has better accuracy than Decision Tree model\n",
    "1. Decision Tree: 73.52%\n",
    "2. Random Forest: 80.19%"
   ]
  },
  {
   "cell_type": "code",
   "execution_count": null,
   "id": "9ee9d243",
   "metadata": {},
   "outputs": [],
   "source": []
  }
 ],
 "metadata": {
  "kernelspec": {
   "display_name": "Python 3 (ipykernel)",
   "language": "python",
   "name": "python3"
  },
  "language_info": {
   "codemirror_mode": {
    "name": "ipython",
    "version": 3
   },
   "file_extension": ".py",
   "mimetype": "text/x-python",
   "name": "python",
   "nbconvert_exporter": "python",
   "pygments_lexer": "ipython3",
   "version": "3.9.12"
  }
 },
 "nbformat": 4,
 "nbformat_minor": 5
}
